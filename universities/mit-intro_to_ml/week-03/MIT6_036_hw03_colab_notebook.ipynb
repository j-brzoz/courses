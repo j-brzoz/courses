{
  "cells": [
    {
      "cell_type": "markdown",
      "metadata": {
        "id": "_xIaEwCD406A"
      },
      "source": [
        "#MIT 6.036 Spring 2019: Homework 3#\n",
        "\n",
        "This colab notebook provides code and a framework for problems 1-7 of [the homework](https://openlearninglibrary.mit.edu/courses/course-v1:MITx+6.036+1T2019/courseware/Week3/week3_homework/).  You can work out your solutions here, then submit your results back on the homework page when ready.\n",
        "\n",
        "## <section>**Setup**</section>\n",
        "\n",
        "First, download the code distribution for this homework that contains test cases and helper functions.\n",
        "\n",
        "Run the next code block to download and import the code for this lab.\n"
      ]
    },
    {
      "cell_type": "code",
      "execution_count": 30,
      "metadata": {
        "colab": {
          "base_uri": "https://localhost:8080/",
          "height": 63
        },
        "id": "vg6IEo8_lmhL",
        "outputId": "82cde602-44d6-4762-96ff-e0a18f24af89"
      },
      "outputs": [],
      "source": [
        "# !pwd"
      ]
    },
    {
      "cell_type": "code",
      "execution_count": 31,
      "metadata": {
        "id": "2YM-_zLf9Bp-"
      },
      "outputs": [],
      "source": [
        "# !rm -rf code_and_data_for_hw3*\n",
        "# !rm -rf mnist\n",
        "# !wget --quiet https://introml_oll.odl.mit.edu/6.036/static/homework/hw03/code_and_data_for_hw3.zip\n",
        "# !unzip code_and_data_for_hw3.zip\n",
        "# !mv code_and_data_for_hw3/* .\n",
        "  \n",
        "from code_for_hw3_part1 import *\n",
        "import code_for_hw3_part2 as hw3"
      ]
    },
    {
      "cell_type": "code",
      "execution_count": 32,
      "metadata": {
        "id": "2z1zuhqltjBy"
      },
      "outputs": [
        {
          "name": "stdout",
          "output_type": "stream",
          "text": [
            "Help on function tidy_plot in module code_for_hw3_part1:\n",
            "\n",
            "tidy_plot(xmin, xmax, ymin, ymax, center=False, title=None, xlabel=None, ylabel=None)\n",
            "\n"
          ]
        }
      ],
      "source": [
        "help(tidy_plot)"
      ]
    },
    {
      "cell_type": "markdown",
      "metadata": {
        "id": "xFxhrJ5XDlvb"
      },
      "source": [
        "# Feature Transformation"
      ]
    },
    {
      "cell_type": "markdown",
      "metadata": {
        "id": "_bhI4dQB1-UZ"
      },
      "source": [
        "## <section>**Running Perceptron**</section>\n",
        "\n",
        "In problems 1,2 and 3, you will have to run the Perceptron algorithm several times to obtain linear classifiers.\n",
        "We provide you with an implementation of the algorithm which you can use to obtain your results.\n",
        "\n",
        "The specifications for the `perceptron`method provided are:\n",
        "* `data` is a numpy array of dimension $d$ by $n$\n",
        "* `labels` is numpy array of dimension $1$ by $n$\n",
        "* `params` is a dictionary specifying extra parameters to this algorithm; your algorithm runs a number of iterations equal to $T$\n",
        "* `hook` is either None or a function that takes the tuple `(th, th0)` as an argument and displays the separator graphically. \n",
        "\n",
        "It should return a tuple of $\\theta$ (a $d$ by 1 array) and $\\theta_0$ (a 1 by 1 array).\n",
        "\n",
        "Note that you are free to modify the method. For example, a useful modification for this homework would be to make the method return the number of mistakes made on the input data, while it runs."
      ]
    },
    {
      "cell_type": "code",
      "execution_count": 33,
      "metadata": {
        "id": "VtYf8ysk-VQU"
      },
      "outputs": [],
      "source": [
        "# Perceptron algorithm with offset.\n",
        "# data is dimension d by n\n",
        "# labels is dimension 1 by n\n",
        "# T is a positive integer number of steps to run\n",
        "def perceptron(data, labels, params = {}, hook = None):\n",
        "    # if T not in params, default to 100\n",
        "    T = params.get('T', 100)\n",
        "    (d, n) = data.shape\n",
        "\n",
        "    theta = np.zeros((d, 1)); theta_0 = np.zeros((1, 1))\n",
        "    for t in range(T):\n",
        "        for i in range(n):\n",
        "            x = data[:,i:i+1]\n",
        "            y = labels[:,i:i+1]\n",
        "            if y * positive(x, theta, theta_0) <= 0.0:\n",
        "                theta = theta + y * x\n",
        "                theta_0 = theta_0 + y\n",
        "                if hook: hook((theta, theta_0))\n",
        "    return theta, theta_0\n",
        "\n",
        "def averaged_perceptron(data, labels, params = {}, hook = None):\n",
        "    T = params.get('T', 100)\n",
        "    (d, n) = data.shape\n",
        "\n",
        "    theta = np.zeros((d, 1)); theta_0 = np.zeros((1, 1))\n",
        "    theta_sum = theta.copy()\n",
        "    theta_0_sum = theta_0.copy()\n",
        "    for t in range(T):\n",
        "        for i in range(n):\n",
        "            x = data[:,i:i+1]\n",
        "            y = labels[:,i:i+1]\n",
        "            if y * positive(x, theta, theta_0) <= 0.0:\n",
        "                theta = theta + y * x\n",
        "                theta_0 = theta_0 + y\n",
        "                if hook: hook((theta, theta_0))\n",
        "            theta_sum = theta_sum + theta\n",
        "            theta_0_sum = theta_0_sum + theta_0\n",
        "    theta_avg = theta_sum / (T*n)\n",
        "    theta_0_avg = theta_0_sum / (T*n)\n",
        "    if hook: hook((theta_avg, theta_0_avg))\n",
        "    return theta_avg, theta_0_avg\n",
        "\n",
        "  \n",
        "def eval_classifier(learner, data_train, labels_train, data_test, labels_test):\n",
        "    th, th0 = learner(data_train, labels_train)\n",
        "    return score(data_test, labels_test, th, th0)/data_test.shape[1]\n",
        "\n",
        "def positive(x, th, th0):\n",
        "    return np.sign(th.T@x + th0)\n",
        "\n",
        "def score(data, labels, th, th0):\n",
        "    return np.sum(positive(data, th, th0) == labels)\n",
        "\n",
        "def xval_learning_alg(learner, data, labels, k):\n",
        "    _, n = data.shape\n",
        "    idx = list(range(n))\n",
        "    np.random.seed(0)\n",
        "    np.random.shuffle(idx)\n",
        "    data, labels = data[:,idx], labels[:,idx]\n",
        "\n",
        "    score_sum = 0\n",
        "    s_data = np.array_split(data, k, axis=1)\n",
        "    s_labels = np.array_split(labels, k, axis=1)\n",
        "    for i in range(k):\n",
        "        data_train = np.concatenate(s_data[:i] + s_data[i+1:], axis=1)\n",
        "        labels_train = np.concatenate(s_labels[:i] + s_labels[i+1:], axis=1)\n",
        "        data_test = np.array(s_data[i])\n",
        "        labels_test = np.array(s_labels[i])\n",
        "        score_sum += eval_classifier(learner, data_train, labels_train,\n",
        "                                              data_test, labels_test)\n",
        "    return score_sum/k"
      ]
    },
    {
      "cell_type": "code",
      "execution_count": 34,
      "metadata": {
        "id": "3g96gm5hmQja"
      },
      "outputs": [],
      "source": [
        "# perceptron(data, labels, params = {'T':100}, hook = None)\n"
      ]
    },
    {
      "cell_type": "markdown",
      "metadata": {
        "id": "ZzqUR755Joij"
      },
      "source": [
        "## <section>2D) Encoding Discrete Values</section>\n",
        "\n",
        "It is common to encode sets of discrete values, for machine learning, not as a single multi-valued feature, but using a one hot encoding. So, if there are $k$ values in the discrete set, we would transform that single multi-valued feature into $k$ binary-valued features, in which feature $i$ has value $+1$ if the original feature value was $i$ and has value $0$ (or $-1$) otherwise.\n",
        "\n",
        "Write a function `one_hot` that takes as input $x$, a single feature value (between $1$ and $k$), and $k$, the total possible number of values this feature can take on, and transform it to a numpy column vector of $k$ binary features using a one-hot encoding (remember vectors have zero-based indexing)."
      ]
    },
    {
      "cell_type": "code",
      "execution_count": 35,
      "metadata": {
        "id": "R11VPNJ3Jpwb"
      },
      "outputs": [],
      "source": [
        "def one_hot(x, k):\n",
        "    # Your implementation here\n",
        "    features = np.zeros((k, 1))\n",
        "    features[x-1][0] = 1\n",
        "    return features\n"
      ]
    },
    {
      "cell_type": "code",
      "execution_count": 36,
      "metadata": {
        "id": "uOdWFevZJs1U"
      },
      "outputs": [
        {
          "name": "stdout",
          "output_type": "stream",
          "text": [
            "Passed! \n",
            "\n"
          ]
        }
      ],
      "source": [
        "test_one_hot(one_hot)"
      ]
    },
    {
      "cell_type": "code",
      "execution_count": 37,
      "metadata": {},
      "outputs": [
        {
          "data": {
            "text/plain": [
              "(array([[ 0.],\n",
              "        [ 2.],\n",
              "        [ 1.],\n",
              "        [-2.],\n",
              "        [-1.],\n",
              "        [ 0.]]),\n",
              " array([[0.]]))"
            ]
          },
          "execution_count": 37,
          "metadata": {},
          "output_type": "execute_result"
        }
      ],
      "source": [
        "data =   np.array([one_hot(2, 6), one_hot(3, 6),  one_hot(4, 6),  one_hot(5, 6)]).T\n",
        "labels = np.array([[1, 1, -1, -1]])\n",
        "perceptron(data[0], labels)"
      ]
    },
    {
      "cell_type": "code",
      "execution_count": 38,
      "metadata": {},
      "outputs": [
        {
          "data": {
            "text/plain": [
              "(array([[ 1.],\n",
              "        [ 1.],\n",
              "        [-2.],\n",
              "        [-2.],\n",
              "        [ 1.],\n",
              "        [ 1.]]),\n",
              " array([[0.]]))"
            ]
          },
          "execution_count": 38,
          "metadata": {},
          "output_type": "execute_result"
        }
      ],
      "source": [
        "data =   np.array([one_hot(1, 6), one_hot(2, 6), one_hot(3, 6),  one_hot(4, 6),  one_hot(5, 6), one_hot(6, 6)]).T\n",
        "labels = np.array([[1, 1, -1, -1, 1, 1]])\n",
        "perceptron(data[0], labels, params={'T':10000})"
      ]
    },
    {
      "cell_type": "markdown",
      "metadata": {
        "id": "IHCfY1dBJvK3"
      },
      "source": [
        "## 3) Polynomial Features\n",
        "\n",
        "One systematic way of generating non-linear transformations of your input features is to consider the polynomials of increasing order.  Given a feature vector $x = [x_1, x_2, ..., x_d]^T$, we can map it into a new feature vector that contains all the factors in a polynomial of order $d$. For example, for $x = [x_1, x_2]^T$ and order 2, we get $$\\phi(x) = [1, x_1, x_2, x_1x_2, x_1^2, x_2^2]^T$$ and for order 3, we get $$\\phi(x) = [1, x_1, x_2, x_1x_2, x_1^2, x_2^2, x_1^2x_2, x_1x_2^2, x_1^3, x_2^3]^T.$$  \n",
        "\n",
        "In the code that has been loaded, we have defined `make_polynomial_feature_fun` that, given the order, returns a feature transformation function (analogous to $\\phi$ in the description).  You should use it in doing this problem."
      ]
    },
    {
      "cell_type": "code",
      "execution_count": 39,
      "metadata": {
        "id": "2MHF3Ej7Jx0r"
      },
      "outputs": [
        {
          "name": "stdout",
          "output_type": "stream",
          "text": [
            "[[1.]\n",
            " [0.]\n",
            " [0.]\n",
            " [0.]\n",
            " [0.]\n",
            " [0.]\n",
            " [0.]\n",
            " [0.]\n",
            " [0.]\n",
            " [0.]\n",
            " [0.]\n",
            " [0.]\n",
            " [0.]\n",
            " [0.]\n",
            " [0.]\n",
            " [0.]\n",
            " [0.]\n",
            " [0.]\n",
            " [0.]\n",
            " [0.]\n",
            " [0.]]\n"
          ]
        }
      ],
      "source": [
        "## For example, make_polynomial_feature_fun could be used as follows:\n",
        "import numpy as np\n",
        "\n",
        "# Data\n",
        "data = np.zeros((5,1))\n",
        "\n",
        "# Generate transformation of order 2\n",
        "transformation = make_polynomial_feature_fun(2)\n",
        "\n",
        "# Use transformation on data\n",
        "print(transformation(data))"
      ]
    },
    {
      "cell_type": "code",
      "execution_count": 40,
      "metadata": {
        "id": "vro86Am2mPMF"
      },
      "outputs": [
        {
          "name": "stdout",
          "output_type": "stream",
          "text": [
            "(3, 1)\n",
            "(66, 1)\n",
            "(231, 1)\n",
            "(496, 1)\n",
            "(861, 1)\n",
            "(1326, 1)\n"
          ]
        }
      ],
      "source": [
        "data = np.zeros((2,1))\n",
        "\n",
        "# Generate transformation of order 2\n",
        "transformation1 = make_polynomial_feature_fun(1)\n",
        "transformation10 = make_polynomial_feature_fun(10)\n",
        "transformation20 = make_polynomial_feature_fun(20)\n",
        "transformation30 = make_polynomial_feature_fun(30)\n",
        "transformation40 = make_polynomial_feature_fun(40)\n",
        "transformation50 = make_polynomial_feature_fun(50)\n",
        "\n",
        "# Use transformation on data\n",
        "print(transformation1(data).shape)\n",
        "print(transformation10(data).shape)\n",
        "print(transformation20(data).shape)\n",
        "print(transformation30(data).shape)\n",
        "print(transformation40(data).shape)\n",
        "print(transformation50(data).shape)"
      ]
    },
    {
      "cell_type": "markdown",
      "metadata": {
        "id": "gwVEBQ_dMoxM"
      },
      "source": [
        "Note that iterative animations, which update a plot within a loop, don't work the same way in colab, as with a local python console installation.  One workaround for colab to be able to show such plot iterations is to show all the plots, and this can be done for the test code using this patched function:"
      ]
    },
    {
      "cell_type": "code",
      "execution_count": 41,
      "metadata": {
        "id": "U87UfhraMn7P"
      },
      "outputs": [],
      "source": [
        "def test_linear_classifier_with_features(dataFun, learner, feature_fun,\n",
        "                             draw = True, refresh = True, pause = True):\n",
        "    raw_data, labels = dataFun()\n",
        "    data = feature_fun(raw_data) if feature_fun else raw_data\n",
        "    if draw:\n",
        "        def hook(params):\n",
        "            ax = plot_data(raw_data, labels)   # create plot axis on each iteration\n",
        "            (th, th0) = params\n",
        "            predictor = lambda x1,x2: int(positive(feature_fun(cv([x1, x2])), th, th0))\n",
        "            plot_nonlin_sep(\n",
        "                predictor,\n",
        "                ax = ax)\n",
        "            plot_data(raw_data, labels, ax)\n",
        "            plt.show()                         # force plot to push to the colab notebook and be displayed\n",
        "            print('th', th.T, 'th0', th0)\n",
        "            if pause: input('press enter here to continue:')\n",
        "    else:\n",
        "        hook = None\n",
        "    th, th0 = learner(data, labels, params={'T':1000000}, hook = hook)\n",
        "    if hook: hook((th, th0))\n",
        "    print(\"Final score\", int(score(data, labels, th, th0)))\n",
        "    print(\"Params\", np.transpose(th), th0)\n",
        "\n",
        "def test_with_features(dataFun, order = 2, draw=True, pause=True):\n",
        "    test_linear_classifier_with_features(\n",
        "        dataFun,                        # data\n",
        "        perceptron,                     # learner\n",
        "        make_polynomial_feature_fun(order), # feature maker\n",
        "        draw=draw,\n",
        "        pause=pause)"
      ]
    },
    {
      "cell_type": "markdown",
      "metadata": {
        "id": "N7SLAtCuNSOq"
      },
      "source": [
        "Here's a test you can run to see plots:"
      ]
    },
    {
      "cell_type": "code",
      "execution_count": 42,
      "metadata": {
        "id": "H74UrlZSNVe-"
      },
      "outputs": [
        {
          "data": {
            "image/png": "[encoded data removed]",
            "text/plain": [
              "<Figure size 640x480 with 1 Axes>"
            ]
          },
          "metadata": {},
          "output_type": "display_data"
        },
        {
          "name": "stdout",
          "output_type": "stream",
          "text": [
            "th [[1. 2. 5.]] th0 [[1.]]\n"
          ]
        },
        {
          "data": {
            "image/png": "[encoded data removed]",
            "text/plain": [
              "<Figure size 640x480 with 1 Axes>"
            ]
          },
          "metadata": {},
          "output_type": "display_data"
        },
        {
          "name": "stdout",
          "output_type": "stream",
          "text": [
            "th [[ 0. -1.  4.]] th0 [[0.]]\n"
          ]
        },
        {
          "data": {
            "image/png": "[encoded data removed]",
            "text/plain": [
              "<Figure size 640x480 with 1 Axes>"
            ]
          },
          "metadata": {},
          "output_type": "display_data"
        },
        {
          "name": "stdout",
          "output_type": "stream",
          "text": [
            "th [[ -1. -13.  -1.]] th0 [[-1.]]\n"
          ]
        },
        {
          "data": {
            "image/png": "[encoded data removed]",
            "text/plain": [
              "<Figure size 640x480 with 1 Axes>"
            ]
          },
          "metadata": {},
          "output_type": "display_data"
        },
        {
          "name": "stdout",
          "output_type": "stream",
          "text": [
            "th [[  0. -11.   4.]] th0 [[0.]]\n"
          ]
        },
        {
          "data": {
            "image/png": "[encoded data removed]",
            "text/plain": [
              "<Figure size 640x480 with 1 Axes>"
            ]
          },
          "metadata": {},
          "output_type": "display_data"
        },
        {
          "name": "stdout",
          "output_type": "stream",
          "text": [
            "th [[ 1. -2. 10.]] th0 [[1.]]\n"
          ]
        },
        {
          "data": {
            "image/png": "[encoded data removed]",
            "text/plain": [
              "<Figure size 640x480 with 1 Axes>"
            ]
          },
          "metadata": {},
          "output_type": "display_data"
        },
        {
          "name": "stdout",
          "output_type": "stream",
          "text": [
            "th [[  0. -14.   5.]] th0 [[0.]]\n"
          ]
        },
        {
          "data": {
            "image/png": "[encoded data removed]",
            "text/plain": [
              "<Figure size 640x480 with 1 Axes>"
            ]
          },
          "metadata": {},
          "output_type": "display_data"
        },
        {
          "name": "stdout",
          "output_type": "stream",
          "text": [
            "th [[  1. -12.  10.]] th0 [[1.]]\n"
          ]
        },
        {
          "data": {
            "image/png": "[encoded data removed]",
            "text/plain": [
              "<Figure size 640x480 with 1 Axes>"
            ]
          },
          "metadata": {},
          "output_type": "display_data"
        },
        {
          "name": "stdout",
          "output_type": "stream",
          "text": [
            "th [[ 2. -3. 16.]] th0 [[2.]]\n"
          ]
        },
        {
          "data": {
            "image/png": "[encoded data removed]",
            "text/plain": [
              "<Figure size 640x480 with 1 Axes>"
            ]
          },
          "metadata": {},
          "output_type": "display_data"
        },
        {
          "name": "stdout",
          "output_type": "stream",
          "text": [
            "th [[  1. -15.  11.]] th0 [[1.]]\n"
          ]
        },
        {
          "data": {
            "image/png": "[encoded data removed]",
            "text/plain": [
              "<Figure size 640x480 with 1 Axes>"
            ]
          },
          "metadata": {},
          "output_type": "display_data"
        },
        {
          "name": "stdout",
          "output_type": "stream",
          "text": [
            "th [[ 2. -6. 17.]] th0 [[2.]]\n"
          ]
        },
        {
          "data": {
            "image/png": "[encoded data removed]",
            "text/plain": [
              "<Figure size 640x480 with 1 Axes>"
            ]
          },
          "metadata": {},
          "output_type": "display_data"
        },
        {
          "name": "stdout",
          "output_type": "stream",
          "text": [
            "th [[  1. -18.  12.]] th0 [[1.]]\n"
          ]
        },
        {
          "data": {
            "image/png": "[encoded data removed]",
            "text/plain": [
              "<Figure size 640x480 with 1 Axes>"
            ]
          },
          "metadata": {},
          "output_type": "display_data"
        },
        {
          "name": "stdout",
          "output_type": "stream",
          "text": [
            "th [[ 2. -9. 18.]] th0 [[2.]]\n"
          ]
        },
        {
          "data": {
            "image/png": "[encoded data removed]",
            "text/plain": [
              "<Figure size 640x480 with 1 Axes>"
            ]
          },
          "metadata": {},
          "output_type": "display_data"
        },
        {
          "name": "stdout",
          "output_type": "stream",
          "text": [
            "th [[ 2. -9. 18.]] th0 [[2.]]\n",
            "Final score 4\n",
            "Params [[ 2. -9. 18.]] [[2.]]\n"
          ]
        }
      ],
      "source": [
        "test_with_features(super_simple_separable_through_origin, order=1, draw=True, pause=False)"
      ]
    },
    {
      "cell_type": "code",
      "execution_count": 43,
      "metadata": {},
      "outputs": [
        {
          "name": "stdout",
          "output_type": "stream",
          "text": [
            "Final score 4\n",
            "Params [[ -5. -27.  44.]] [[-5.]]\n"
          ]
        }
      ],
      "source": [
        "test_with_features(super_simple_separable, order=1, draw=False, pause=False)"
      ]
    },
    {
      "cell_type": "code",
      "execution_count": 44,
      "metadata": {},
      "outputs": [
        {
          "name": "stdout",
          "output_type": "stream",
          "text": [
            "Final score 4\n",
            "Params [[ 1. -1. -1. -5. 11. -5.]] [[1.]]\n"
          ]
        }
      ],
      "source": [
        "test_with_features(xor, order=2, draw=False, pause=False)"
      ]
    },
    {
      "cell_type": "code",
      "execution_count": 45,
      "metadata": {},
      "outputs": [
        {
          "name": "stdout",
          "output_type": "stream",
          "text": [
            "Final score 8\n",
            "Params [[ -78.   28.  -39.   72.  248.  -19.   76. -522.  476. -153.]] [[-78.]]\n"
          ]
        }
      ],
      "source": [
        "test_with_features(xor_more, order=3, draw=False, pause=False)"
      ]
    },
    {
      "cell_type": "markdown",
      "metadata": {
        "id": "k049Moe2OKBa"
      },
      "source": [
        "We know that a better way to do this exists (eg using [colab plot animations](https://colab.research.google.com/drive/131wXGA8h8d7llSZxZJ6R4e8nz0ih1WPG#scrollTo=5zVG8JcR4CS2)) - if you are willing to contribute some nice code which lets our plotting functions do this, please do share!"
      ]
    },
    {
      "cell_type": "markdown",
      "metadata": {
        "id": "GcgPe4-XQ8-b"
      },
      "source": [
        "# Experiments"
      ]
    },
    {
      "cell_type": "markdown",
      "metadata": {
        "id": "erNybvgGRXCf"
      },
      "source": [
        "## 4) Evaluating algorithmic and feature choices for AUTO data\n",
        "\n",
        "We now want to build a classifier for the auto data, focusing on the\n",
        "numeric data.  In the code file for this part of the assignment, we have supplied you\n",
        "with the `load_auto_data` function, that can be used to read the\n",
        "relevant .tsv file.  It will return a list of dictionaries, one for each data item.\n",
        "\n",
        "We then have to specify what feature function to use for each column\n",
        "in the data.  The file `hw3_part2_main.py` has an example for constructing\n",
        "the data and label arrays using `raw` feature function for all the columns.\n",
        "Look at the definition of `features` in `hw3_part2_main.py`, this indicates a feature name to\n",
        "use and then a feature function, there are three defined in the\n",
        "`code_for_hw3_part2.py` file (`raw`, `standard` and `one_hot`).  `raw` just uses\n",
        "the original value, `standard` subtracts out the mean value and\n",
        "divides by the standard deviation and `one_hot` does the encoding\n",
        "described in the notes.\n",
        "\n",
        "The function `auto_data_and_labels` will process the dictionaries and\n",
        "return <tt>data, labels</tt> where <tt>data</tt> are arrays of\n",
        "dimension $(d, 392)$, with $d$ the total number of features specified,\n",
        "and <tt>labels</tt> is of dimension $(1, 392)$.  The data in the file\n",
        "is sorted by class, but it will be shuffled when you read it in."
      ]
    },
    {
      "cell_type": "code",
      "execution_count": 46,
      "metadata": {
        "id": "3jdynxZqQ5Ky"
      },
      "outputs": [
        {
          "name": "stdout",
          "output_type": "stream",
          "text": [
            "avg and std {}\n",
            "entries in one_hot field {}\n",
            "auto data and labels shape (6, 392) (1, 392)\n"
          ]
        }
      ],
      "source": [
        "# Returns a list of dictionaries.  Keys are the column names, including mpg.\n",
        "auto_data_all = hw3.load_auto_data('auto-mpg.tsv')\n",
        "\n",
        "# The choice of feature processing for each feature, mpg is always raw and\n",
        "# does not need to be specified.  Other choices are hw3.standard and hw3.one_hot.\n",
        "# 'name' is not numeric and would need a different encoding.\n",
        "features = [('cylinders', hw3.raw),\n",
        "            ('displacement', hw3.raw),\n",
        "            ('horsepower', hw3.raw),\n",
        "            ('weight', hw3.raw),\n",
        "            ('acceleration', hw3.raw),\n",
        "            ## Drop model_year by default\n",
        "            ## ('model_year', hw3.raw),\n",
        "            ('origin', hw3.raw)]\n",
        "\n",
        "# Construct the standard data and label arrays\n",
        "auto_data, auto_labels = hw3.auto_data_and_labels(auto_data_all, features)\n",
        "print('auto data and labels shape', auto_data.shape, auto_labels.shape)"
      ]
    },
    {
      "cell_type": "code",
      "execution_count": 47,
      "metadata": {
        "id": "yfOrmU1XdFCZ"
      },
      "outputs": [
        {
          "name": "stdout",
          "output_type": "stream",
          "text": [
            "avg and std {}\n",
            "entries in one_hot field {}\n",
            "avg and std {'displacement': (388.3482142857143, 302.0458123396403), 'horsepower': (509.3545918367347, 333.6521151716361), 'weight': (2977.5841836734694, 848.3184465698365), 'acceleration': (15.541326530612228, 2.7553429127509963)}\n",
            "entries in one_hot field {'cylinders': [3.0, 4.0, 5.0, 6.0, 8.0], 'origin': [1.0, 2.0, 3.0]}\n",
            "Perceptron (10-fold val, raw, T=1) = 0.6526282051282052\n",
            "Perceptron (10-fold val, raw, T=10) = 0.7423076923076924\n",
            "Perceptron (10-fold val, raw, T=50) = 0.6909615384615384\n",
            "Perceptron (10-fold val, optim, T=1) = 0.7908333333333333\n",
            "Perceptron (10-fold val, optim, T=10) = 0.8061538461538461\n",
            "Perceptron (10-fold val, optim, T=50) = 0.8060256410256409\n",
            "Avg-perceptron (10-fold val, raw, T=1) = 0.8441025641025641\n",
            "Avg-perceptron (10-fold val, raw, T=10) = 0.8366025641025641\n",
            "Avg-perceptron (10-fold val, raw, T=50) = 0.8366025641025641\n",
            "Avg-perceptron (10-fold val, optim, T=1) = 0.9004487179487182\n",
            "Avg-perceptron (10-fold val, optim, T=10) = 0.8979487179487181\n",
            "Avg-perceptron (10-fold val, optim, T=50) = 0.9005128205128207\n",
            "Best combination(Avg-p, 10-fold, optim, T=10) classifier = (array([[-0.92168367],\n",
            "       [ 1.50280612],\n",
            "       [ 0.40229592],\n",
            "       [-0.7630102 ],\n",
            "       [ 0.73903061],\n",
            "       [-1.17833746],\n",
            "       [ 0.45228459],\n",
            "       [-4.91225636],\n",
            "       [ 0.45783691],\n",
            "       [ 0.27806122],\n",
            "       [ 0.97091837],\n",
            "       [-0.28954082]]), array([[0.95943878]]))\n"
          ]
        }
      ],
      "source": [
        "# Your code here to process the auto data\n",
        "def eval_classifier(learner, data_train, labels_train, data_test, labels_test, T):\n",
        "    th, th0 = learner(data_train, labels_train, params={'T':T})\n",
        "    return score(data_test, labels_test, th, th0)/data_test.shape[1]\n",
        "\n",
        "\n",
        "def xval_learning_alg(learner, data, labels, k, T):\n",
        "    _, n = data.shape\n",
        "    idx = list(range(n))\n",
        "    np.random.seed(0)\n",
        "    np.random.shuffle(idx)\n",
        "    data, labels = data[:,idx], labels[:,idx]\n",
        "\n",
        "    score_sum = 0\n",
        "    s_data = np.array_split(data, k, axis=1)\n",
        "    s_labels = np.array_split(labels, k, axis=1)\n",
        "    for i in range(k):\n",
        "        data_train = np.concatenate(s_data[:i] + s_data[i+1:], axis=1)\n",
        "        labels_train = np.concatenate(s_labels[:i] + s_labels[i+1:], axis=1)\n",
        "        data_test = np.array(s_data[i])\n",
        "        labels_test = np.array(s_labels[i])\n",
        "        score_sum += eval_classifier(learner, data_train, labels_train,\n",
        "                                              data_test, labels_test, T)\n",
        "    return score_sum/k\n",
        "\n",
        "features1 = [('cylinders', hw3.raw),\n",
        "            ('displacement', hw3.raw),\n",
        "            ('horsepower', hw3.raw),\n",
        "            ('weight', hw3.raw),\n",
        "            ('acceleration', hw3.raw),\n",
        "            ('origin', hw3.raw)]\n",
        "features2 = [('cylinders', hw3.one_hot),\n",
        "            ('displacement', hw3.standard),\n",
        "            ('horsepower', hw3.standard),\n",
        "            ('weight', hw3.standard),\n",
        "            ('acceleration', hw3.standard),\n",
        "            ('origin', hw3.one_hot)]\n",
        "\n",
        "data1, labels1 = hw3.auto_data_and_labels(auto_data_all, features1)\n",
        "data2, labels2 = hw3.auto_data_and_labels(auto_data_all, features2)\n",
        "\n",
        "T1 = 1\n",
        "T10 = 10\n",
        "T50 = 50\n",
        "\n",
        "print(\"Perceptron (10-fold val, raw, T=1) = \" + str(xval_learning_alg(perceptron, data1, labels1, 10, T1)))\n",
        "print(\"Perceptron (10-fold val, raw, T=10) = \" + str(xval_learning_alg(perceptron, data1, labels1, 10, T10)))\n",
        "print(\"Perceptron (10-fold val, raw, T=50) = \" + str(xval_learning_alg(perceptron, data1, labels1, 10, T50)))\n",
        "print(\"Perceptron (10-fold val, optim, T=1) = \" + str(xval_learning_alg(perceptron, data2, labels2, 10, T1)))\n",
        "print(\"Perceptron (10-fold val, optim, T=10) = \" + str(xval_learning_alg(perceptron, data2, labels2, 10, T10)))\n",
        "print(\"Perceptron (10-fold val, optim, T=50) = \" + str(xval_learning_alg(perceptron, data2, labels2, 10, T50)))\n",
        "print(\"Avg-perceptron (10-fold val, raw, T=1) = \" + str(xval_learning_alg(averaged_perceptron, data1, labels1, 10, T1)))\n",
        "print(\"Avg-perceptron (10-fold val, raw, T=10) = \" + str(xval_learning_alg(averaged_perceptron, data1, labels1, 10, T10)))\n",
        "print(\"Avg-perceptron (10-fold val, raw, T=50) = \" + str(xval_learning_alg(averaged_perceptron, data1, labels1, 10, T50)))\n",
        "print(\"Avg-perceptron (10-fold val, optim, T=1) = \" + str(xval_learning_alg(averaged_perceptron, data2, labels2, 10, T1)))\n",
        "print(\"Avg-perceptron (10-fold val, optim, T=10) = \" + str(xval_learning_alg(averaged_perceptron, data2, labels2, 10, T10)))\n",
        "print(\"Avg-perceptron (10-fold val, optim, T=50) = \" + str(xval_learning_alg(averaged_perceptron, data2, labels2, 10, T50)))\n",
        "\n",
        "print(\"Best combination(Avg-p, 10-fold, optim, T=10) classifier = \" + str(averaged_perceptron(data2, labels2, params={'T':10})))\n"
      ]
    },
    {
      "cell_type": "markdown",
      "metadata": {
        "id": "sh-D5bvTbizf"
      },
      "source": [
        "## 5) Evaluating algorithmic and feature choices for review data\n",
        "\n",
        "We have supplied you with the `load_review_data`\n",
        "function, that can be used to read a .tsv file and return the labels\n",
        "and texts. We have also supplied you with the `bag_of_words` function,\n",
        "which takes the raw data and returns a dictionary of unigram\n",
        "words. The resulting dictionary is an input to\n",
        "`extract_bow_feature_vectors` which computes a feature matrix of ones\n",
        "and zeros that can be used as the input for the classification\n",
        "algorithms.  The file `hw3_part2_main.py` has code for constructing\n",
        "the data and label arrays.  Using these arrays and our implementation\n",
        "of the learning algorithms, you will be able to compute $\\theta$ and\n",
        "$\\theta_0$.  You will need to add your (or the one written by staff)\n",
        "implementation of perceptron and averaged perceptron."
      ]
    },
    {
      "cell_type": "code",
      "execution_count": 19,
      "metadata": {
        "id": "5gHVvGl2bsps"
      },
      "outputs": [
        {
          "name": "stdout",
          "output_type": "stream",
          "text": [
            "review_bow_data and labels shape (19945, 10000) (1, 10000)\n"
          ]
        }
      ],
      "source": [
        "# Returns lists of dictionaries.  Keys are the column names, 'sentiment' and 'text'.\n",
        "# The train data has 10,000 examples\n",
        "review_data = hw3.load_review_data('reviews.tsv')\n",
        "\n",
        "# Lists texts of reviews and list of labels (1 or -1)\n",
        "review_texts, review_label_list = zip(*((sample['text'], sample['sentiment']) for sample in review_data))\n",
        "\n",
        "# The dictionary of all the words for \"bag of words\"\n",
        "dictionary = hw3.bag_of_words(review_texts)\n",
        "\n",
        "# The standard data arrays for the bag of words\n",
        "review_bow_data = hw3.extract_bow_feature_vectors(review_texts, dictionary)\n",
        "review_labels = hw3.rv(review_label_list)\n",
        "print('review_bow_data and labels shape', review_bow_data.shape, review_labels.shape)"
      ]
    },
    {
      "cell_type": "code",
      "execution_count": 20,
      "metadata": {
        "id": "wR9S-6DsdDFF"
      },
      "outputs": [
        {
          "name": "stdout",
          "output_type": "stream",
          "text": [
            "Perceptron (10-fold val, T=1) = 0.7672000000000001\n",
            "Perceptron (10-fold val, T=10) = 0.7871\n",
            "Perceptron (10-fold val, T=50) = 0.8036\n",
            "Avg-perceptron (10-fold val, T=1) = 0.8120999999999998\n",
            "Avg-perceptron (10-fold val, T=10) = 0.8237\n",
            "Avg-perceptron (10-fold val, T=50) = 0.8157\n"
          ]
        }
      ],
      "source": [
        "# Your code here to process the auto data\n",
        "def eval_classifier(learner, data_train, labels_train, data_test, labels_test, T):\n",
        "    th, th0 = learner(data_train, labels_train, params={'T':T})\n",
        "    return score(data_test, labels_test, th, th0)/data_test.shape[1]\n",
        "\n",
        "\n",
        "def xval_learning_alg(learner, data, labels, k, T):\n",
        "    _, n = data.shape\n",
        "    idx = list(range(n))\n",
        "    np.random.seed(0)\n",
        "    np.random.shuffle(idx)\n",
        "    data, labels = data[:,idx], labels[:,idx]\n",
        "\n",
        "    score_sum = 0\n",
        "    s_data = np.array_split(data, k, axis=1)\n",
        "    s_labels = np.array_split(labels, k, axis=1)\n",
        "    for i in range(k):\n",
        "        data_train = np.concatenate(s_data[:i] + s_data[i+1:], axis=1)\n",
        "        labels_train = np.concatenate(s_labels[:i] + s_labels[i+1:], axis=1)\n",
        "        data_test = np.array(s_data[i])\n",
        "        labels_test = np.array(s_labels[i])\n",
        "        score_sum += eval_classifier(learner, data_train, labels_train,\n",
        "                                              data_test, labels_test, T)\n",
        "    return score_sum/k\n",
        "\n",
        "T1 = 1\n",
        "T10 = 10\n",
        "T50 = 50 \n",
        "\n",
        "print(\"Perceptron (10-fold val, T=1) = \" + str(xval_learning_alg(perceptron, review_bow_data, review_labels, 10, T1)))\n",
        "print(\"Perceptron (10-fold val, T=10) = \" + str(xval_learning_alg(perceptron, review_bow_data, review_labels, 10, T10)))\n",
        "print(\"Perceptron (10-fold val, T=50) = \" + str(xval_learning_alg(perceptron, review_bow_data, review_labels, 10, T50)))\n",
        "print(\"Avg-perceptron (10-fold val, T=1) = \" + str(xval_learning_alg(averaged_perceptron, review_bow_data, review_labels, 10, T1)))\n",
        "print(\"Avg-perceptron (10-fold val, T=10) = \" + str(xval_learning_alg(averaged_perceptron, review_bow_data, review_labels, 10, T10)))\n",
        "print(\"Avg-perceptron (10-fold val, T=50) = \" + str(xval_learning_alg(averaged_perceptron, review_bow_data, review_labels, 10, T50)))\n",
        "\n"
      ]
    },
    {
      "cell_type": "code",
      "execution_count": 51,
      "metadata": {},
      "outputs": [
        {
          "name": "stdout",
          "output_type": "stream",
          "text": [
            "['great', 'individually', 'bright', 'yummy', 'skeptical', 'perfect', 'easily', 'satisfied', 'delicious', 'excellent']\n",
            "['worst', 'awful', 'unfortunately', 'horrible', 'stuck', 'changed', 'disappointment', 'bland', 'poor', 'formula']\n"
          ]
        }
      ],
      "source": [
        "th, th_0 = averaged_perceptron(review_bow_data, review_labels,  params={'T':T10})\n",
        "\n",
        "th_sorted = np.argsort(th[:,0])\n",
        "most_positive = th_sorted[-10:]\n",
        "most_negative = th_sorted[:10]\n",
        "\n",
        "word_dict = hw3.reverse_dict(dictionary)\n",
        "\n",
        "positive_words = [word_dict[i] for i in most_positive]\n",
        "negative_words = [word_dict[i] for i in most_negative]\n",
        "\n",
        "print(positive_words)\n",
        "print(negative_words)"
      ]
    },
    {
      "cell_type": "markdown",
      "metadata": {
        "id": "qbqHMbrubt5t"
      },
      "source": [
        "## 6) Evaluating features for MNIST data\n",
        "\n",
        "\n",
        "This problem explores how well the perceptron algorithm works to <a\n",
        "href=\"http://neuralnetworksanddeeplearning.com/chap1.html\">classify\n",
        "images of handwritten digits</a>, from the well-known (\"MNIST\")\n",
        "dataset, buiding on your thoughts from lab about extracting features\n",
        "from images.  This exercise will highlight how important feature\n",
        "extraction is, before linear classification is done, using algorithms\n",
        "such as the perceptron.\n",
        "\n",
        "<b>Dataset setup</b>\n",
        "\n",
        "Often, it may be easier to work with a vector whose spatial orientation is preserved.\n",
        "In previous parts, we have represented features as one long feature vector.\n",
        "For images, however, we often represent a $m$ by $n$ image\n",
        "as a `(m,n)` array, rather than a `(mn,1)` array\n",
        "(as the previous parts have done).\n",
        "\n",
        "In the code file, we have supplied you with the `load_mnist_data` function,\n",
        "which will read from the provided image files and populate a dictionary,\n",
        "with image and label vectors for each numerical digit from 0 to 9.\n",
        "These images are already shaped as `(m,n)` arrays."
      ]
    },
    {
      "cell_type": "code",
      "execution_count": 52,
      "metadata": {
        "id": "_6xT_UA2cJMe"
      },
      "outputs": [
        {
          "name": "stdout",
          "output_type": "stream",
          "text": [
            "mnist_data_all loaded. shape of single images is (28, 28)\n"
          ]
        }
      ],
      "source": [
        "mnist_data_all = hw3.load_mnist_data(range(10))\n",
        "\n",
        "print('mnist_data_all loaded. shape of single images is', mnist_data_all[0][\"images\"][0].shape)\n",
        "\n",
        "# HINT: change the [0] and [1] if you want to access different images\n",
        "d0 = mnist_data_all[0][\"images\"]\n",
        "d1 = mnist_data_all[1][\"images\"]\n",
        "y0 = np.repeat(-1, len(d0)).reshape(1,-1)\n",
        "y1 = np.repeat(1, len(d1)).reshape(1,-1)\n",
        "\n",
        "# data goes into the feature computation functions\n",
        "data = np.vstack((d0, d1))\n",
        "# labels can directly go into the perceptron algorithm\n",
        "labels = np.vstack((y0.T, y1.T)).T"
      ]
    },
    {
      "cell_type": "code",
      "execution_count": 86,
      "metadata": {
        "id": "vsX_9X7Nb0NW"
      },
      "outputs": [],
      "source": [
        "# change these implementations to support whole datasets\n",
        "\n",
        "def raw_mnist_features(x):\n",
        "    n_samples, m, n = x.shape\n",
        "    return x.reshape((n_samples, m*n)).T\n",
        "\n",
        "def row_average_features(x):\n",
        "    return np.array([np.average(x, axis=1)]).T\n",
        "\n",
        "def row_average_features2(x):\n",
        "    n_samples, m, n = x.shape\n",
        "    return np.mean(x, axis=2,keepdims=True).T.reshape((m,n_samples))\n",
        "\n",
        "\n",
        "def col_average_features(x):\n",
        "    return np.array([np.average(x, axis=0)]).T\n",
        "\n",
        "def col_average_features2(x):    \n",
        "    n_samples, m, n = x.shape\n",
        "    return np.mean(x, axis=1,keepdims=True).T.reshape((n,n_samples))\n",
        "\n",
        "\n",
        "def top_bottom_features(x):\n",
        "    m, n = x.shape\n",
        "    if m % 2 == 0:\n",
        "        top, bottom = np.vsplit(x, 2)\n",
        "    else:\n",
        "        division = m//2\n",
        "        top = x[:division]\n",
        "        bottom = x[division:]\n",
        "    return np.array([[np.average(top)], [np.average(bottom)]])\n",
        "\n",
        "def top_bottom_features2(x):\n",
        "    n_samples, m, n = x.shape\n",
        "    return np.array([np.mean(x[:,:m // 2,],axis=(1,2)), np.mean(x[:,m // 2:,],axis=(1,2))]).reshape((2,n_samples))"
      ]
    },
    {
      "cell_type": "code",
      "execution_count": 87,
      "metadata": {
        "id": "9DTXfMoDgCKk"
      },
      "outputs": [
        {
          "name": "stdout",
          "output_type": "stream",
          "text": [
            "Raw 0vs1 = 0.975\n",
            "Raw 2vs4 = 0.8641666666666665\n",
            "Raw 6vs8 = 0.9479166666666667\n",
            "Raw 9vs0 = 0.6470833333333333\n",
            "Row 0vs1 = 0.48125\n",
            "Row 2vs4 = 0.7754166666666668\n",
            "Row 6vs8 = 0.92125\n",
            "Row 9vs0 = 0.49749999999999994\n",
            "Column 0vs1 = 0.6375\n",
            "Column 2vs4 = 0.49749999999999994\n",
            "Column 6vs8 = 0.52125\n",
            "Column 9vs0 = 0.5041666666666667\n",
            "Top/bottom 0vs1 = 0.48125\n",
            "Top/bottom 2vs4 = 0.49749999999999994\n",
            "Top/bottom 6vs8 = 0.5650000000000001\n",
            "Top/bottom 9vs0 = 0.49749999999999994\n"
          ]
        }
      ],
      "source": [
        "\n",
        "d0 = mnist_data_all[0][\"images\"]\n",
        "d1 = mnist_data_all[1][\"images\"]\n",
        "y0 = np.repeat(-1, len(d0)).reshape(1,-1)\n",
        "y1 = np.repeat(1, len(d1)).reshape(1,-1)\n",
        "data01 = np.vstack((d0, d1))\n",
        "labels01 = np.vstack((y0.T, y1.T)).T\n",
        "\n",
        "d2 = mnist_data_all[2][\"images\"]\n",
        "d4 = mnist_data_all[4][\"images\"]\n",
        "y2 = np.repeat(-1, len(d2)).reshape(1,-1)\n",
        "y4 = np.repeat(1, len(d4)).reshape(1,-1)\n",
        "data24 = np.vstack((d2, d4))\n",
        "labels24 = np.vstack((y2.T, y4.T)).T\n",
        "\n",
        "d6 = mnist_data_all[6][\"images\"]\n",
        "d8 = mnist_data_all[8][\"images\"]\n",
        "y6 = np.repeat(-1, len(d6)).reshape(1,-1)\n",
        "y8 = np.repeat(1, len(d8)).reshape(1,-1)\n",
        "data68 = np.vstack((d6, d8))\n",
        "labels68 = np.vstack((y6.T, y8.T)).T\n",
        "\n",
        "d9 = mnist_data_all[9][\"images\"]\n",
        "d0 = mnist_data_all[0][\"images\"]\n",
        "y9 = np.repeat(-1, len(d9)).reshape(1,-1)\n",
        "y0 = np.repeat(1, len(d0)).reshape(1,-1)\n",
        "data90 = np.vstack((d9, d0))\n",
        "labels90 = np.vstack((y9.T, y0.T)).T\n",
        "\n",
        "acc01 = hw3.get_classification_accuracy(raw_mnist_features(data01), labels01)\n",
        "acc24 = hw3.get_classification_accuracy(raw_mnist_features(data24), labels24)\n",
        "acc68 = hw3.get_classification_accuracy(raw_mnist_features(data68), labels68)\n",
        "acc90 = hw3.get_classification_accuracy(raw_mnist_features(data90), labels90)\n",
        "print(\"Raw 0vs1 = \" + str(acc01))\n",
        "print(\"Raw 2vs4 = \" + str(acc24))\n",
        "print(\"Raw 6vs8 = \" + str(acc68))\n",
        "print(\"Raw 9vs0 = \" + str(acc90))\n",
        "\n",
        "acc01 = hw3.get_classification_accuracy(row_average_features2(data01), labels01)\n",
        "acc24 = hw3.get_classification_accuracy(row_average_features2(data24), labels24)\n",
        "acc68 = hw3.get_classification_accuracy(row_average_features2(data68), labels68)\n",
        "acc90 = hw3.get_classification_accuracy(row_average_features2(data90), labels90)\n",
        "print(\"Row 0vs1 = \" + str(acc01))\n",
        "print(\"Row 2vs4 = \" + str(acc24))\n",
        "print(\"Row 6vs8 = \" + str(acc68))\n",
        "print(\"Row 9vs0 = \" + str(acc90))\n",
        "\n",
        "acc01 = hw3.get_classification_accuracy(col_average_features2(data01), labels01)\n",
        "acc24 = hw3.get_classification_accuracy(col_average_features2(data24), labels24)\n",
        "acc68 = hw3.get_classification_accuracy(col_average_features2(data68), labels68)\n",
        "acc90 = hw3.get_classification_accuracy(col_average_features2(data90), labels90)\n",
        "print(\"Column 0vs1 = \" + str(acc01))\n",
        "print(\"Column 2vs4 = \" + str(acc24))\n",
        "print(\"Column 6vs8 = \" + str(acc68))\n",
        "print(\"Column 9vs0 = \" + str(acc90))\n",
        "\n",
        "acc01 = hw3.get_classification_accuracy(top_bottom_features2(data01), labels01)\n",
        "acc24 = hw3.get_classification_accuracy(top_bottom_features2(data24), labels24)\n",
        "acc68 = hw3.get_classification_accuracy(top_bottom_features2(data68), labels68)\n",
        "acc90 = hw3.get_classification_accuracy(top_bottom_features2(data90), labels90)\n",
        "print(\"Top/bottom 0vs1 = \" + str(acc01))\n",
        "print(\"Top/bottom 2vs4 = \" + str(acc24))\n",
        "print(\"Top/bottom 6vs8 = \" + str(acc68))\n",
        "print(\"Top/bottom 9vs0 = \" + str(acc90))"
      ]
    }
  ],
  "metadata": {
    "colab": {
      "provenance": []
    },
    "kernelspec": {
      "display_name": "Python 3",
      "name": "python3"
    },
    "language_info": {
      "codemirror_mode": {
        "name": "ipython",
        "version": 3
      },
      "file_extension": ".py",
      "mimetype": "text/x-python",
      "name": "python",
      "nbconvert_exporter": "python",
      "pygments_lexer": "ipython3",
      "version": "3.9.13"
    }
  },
  "nbformat": 4,
  "nbformat_minor": 0
}
