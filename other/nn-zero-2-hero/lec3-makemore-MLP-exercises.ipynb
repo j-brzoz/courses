{
 "cells": [
  {
   "cell_type": "markdown",
   "metadata": {},
   "source": [
    "#### E01\n",
    "##### Tune the hyperparameters of the training to beat my best validation loss of 2.2 (I tried going below 2.1)"
   ]
  },
  {
   "cell_type": "code",
   "execution_count": 25,
   "metadata": {},
   "outputs": [],
   "source": [
    "# imports\n",
    "import torch\n",
    "import torch.nn.functional as F\n",
    "import matplotlib.pyplot as plt\n",
    "%matplotlib inline"
   ]
  },
  {
   "cell_type": "code",
   "execution_count": 26,
   "metadata": {},
   "outputs": [
    {
     "data": {
      "text/plain": [
       "['emma', 'olivia', 'ava', 'isabella', 'sophia']"
      ]
     },
     "execution_count": 26,
     "metadata": {},
     "output_type": "execute_result"
    }
   ],
   "source": [
    "words = open('names.txt', 'r').read().splitlines()\n",
    "words[:5]"
   ]
  },
  {
   "cell_type": "code",
   "execution_count": 27,
   "metadata": {},
   "outputs": [],
   "source": [
    "# conversions\n",
    "chars = sorted(list(set(''.join(words))))\n",
    "stoi = {s:i+1 for i, s in enumerate(chars)}\n",
    "stoi['.'] = 0\n",
    "itos = {i:s for s, i in stoi.items()}"
   ]
  },
  {
   "cell_type": "code",
   "execution_count": 28,
   "metadata": {},
   "outputs": [],
   "source": [
    "# build the dataset given words and context length\n",
    "def build_dataset(words, block_size):\n",
    "    X, Y = [], []\n",
    "    for word in words:\n",
    "        context = [0] * block_size\n",
    "        for character in word + '.':\n",
    "            index = stoi[character]\n",
    "            X.append(context)\n",
    "            Y.append(index)\n",
    "            context = context[1:] + [index]\n",
    "\n",
    "    X = torch.tensor(X)\n",
    "    Y = torch.tensor(Y)\n",
    "    return X, Y"
   ]
  },
  {
   "cell_type": "code",
   "execution_count": 29,
   "metadata": {},
   "outputs": [
    {
     "data": {
      "text/plain": [
       "(tensor([[ 0,  0,  0],\n",
       "         [ 0,  0, 25],\n",
       "         [ 0, 25, 21],\n",
       "         [25, 21,  8],\n",
       "         [21,  8,  5]]),\n",
       " tensor([25, 21,  8,  5, 14]))"
      ]
     },
     "execution_count": 29,
     "metadata": {},
     "output_type": "execute_result"
    }
   ],
   "source": [
    "# divide into training set (80%), validation/dev set (10%) and test set (10%)\n",
    "import random\n",
    "random.seed(42)\n",
    "random.shuffle(words)\n",
    "n1 = int(0.8 * len(words))\n",
    "n2 = int(0.9 * len(words))\n",
    "\n",
    "context_length = 3\n",
    "X_train, Y_train = build_dataset(words[:n1], context_length)\n",
    "X_dev, Y_dev = build_dataset(words[n1:n2], context_length)\n",
    "X_test, Y_test = build_dataset(words[n2:], context_length)\n",
    "X_train[:5], Y_train[:5]"
   ]
  },
  {
   "cell_type": "code",
   "execution_count": 100,
   "metadata": {},
   "outputs": [
    {
     "data": {
      "text/plain": [
       "51875"
      ]
     },
     "execution_count": 100,
     "metadata": {},
     "output_type": "execute_result"
    }
   ],
   "source": [
    "g = torch.Generator().manual_seed(2147483647)\n",
    "# dim-dimensional vector space for letters\n",
    "dim = 24\n",
    "neuron_num = 512\n",
    "C = torch.randn((27, dim), generator=g)\n",
    "# first layer that is hidden\n",
    "weights1 = torch.randn((dim * context_length, neuron_num), generator=g)\n",
    "bias1 = torch.randn(neuron_num, generator=g)\n",
    "# output layer\n",
    "weights2 = torch.randn((neuron_num, 27), generator=g)\n",
    "bias2 = torch.randn(27, generator=g)\n",
    "# all parametters\n",
    "parameters = [C, weights1, bias1, weights2, bias2]\n",
    "sum(p.nelement() for p in parameters)"
   ]
  },
  {
   "cell_type": "code",
   "execution_count": 101,
   "metadata": {},
   "outputs": [],
   "source": [
    "# turning gradient on\n",
    "for p in parameters:\n",
    "    p.requires_grad = True"
   ]
  },
  {
   "cell_type": "code",
   "execution_count": 102,
   "metadata": {},
   "outputs": [],
   "source": [
    "steps = []\n",
    "log_loss = [] "
   ]
  },
  {
   "cell_type": "code",
   "execution_count": 103,
   "metadata": {},
   "outputs": [
    {
     "name": "stdout",
     "output_type": "stream",
     "text": [
      "0 43.65504837036133\n",
      "10000 2.803736448287964\n",
      "20000 2.4207653999328613\n",
      "30000 2.1950294971466064\n",
      "40000 1.9529170989990234\n",
      "50000 2.0166215896606445\n",
      "60000 2.075808525085449\n",
      "70000 2.1144537925720215\n",
      "80000 2.0882649421691895\n",
      "90000 2.02705454826355\n",
      "100000 2.0420238971710205\n",
      "110000 2.0569469928741455\n",
      "120000 1.951102375984192\n",
      "130000 1.783360242843628\n",
      "140000 1.9102058410644531\n",
      "150000 1.9121332168579102\n",
      "160000 1.9894870519638062\n",
      "170000 1.860229253768921\n",
      "180000 1.8974263668060303\n",
      "190000 1.991809606552124\n"
     ]
    }
   ],
   "source": [
    "for i in range(200000):\n",
    "    # getting minibatch\n",
    "    index = torch.randint(0, X_train.shape[0], (256,)) # increased batch size to 256\n",
    "\n",
    "    # forward pass\n",
    "    embedings = C[X_train[index]]              \n",
    "    hidden_layer = torch.tanh(embedings.view(-1, dim * context_length) @ weights1 + bias1)\n",
    "    logits = hidden_layer @ weights2 + bias2    \n",
    "    loss = F.cross_entropy(logits, Y_train[index])\n",
    "\n",
    "    # backward pass\n",
    "    for p in parameters:\n",
    "        p.grad = None\n",
    "    loss.backward()\n",
    "\n",
    "    # update\n",
    "    learning_rate = 0.1 if i < 100000 else 0.01\n",
    "    for p in parameters:\n",
    "        p.data -= learning_rate * p.grad\n",
    "\n",
    "    # track log-loss\n",
    "    steps.append(i)\n",
    "    log_loss.append(loss.log10().item())\n",
    "    \n",
    "    if i % 10000 == 0:\n",
    "        print(i, loss.item())"
   ]
  },
  {
   "cell_type": "code",
   "execution_count": 104,
   "metadata": {},
   "outputs": [
    {
     "data": {
      "text/plain": [
       "[<matplotlib.lines.Line2D at 0x1d4aeb50b20>]"
      ]
     },
     "execution_count": 104,
     "metadata": {},
     "output_type": "execute_result"
    },
    {
     "data": {
      "image/png": "[encoded data removed]",
      "text/plain": [
       "<Figure size 640x480 with 1 Axes>"
      ]
     },
     "metadata": {},
     "output_type": "display_data"
    }
   ],
   "source": [
    "plt.plot(steps, log_loss)"
   ]
  },
  {
   "cell_type": "code",
   "execution_count": 105,
   "metadata": {},
   "outputs": [
    {
     "data": {
      "text/plain": [
       "tensor(1.9410, grad_fn=<NllLossBackward0>)"
      ]
     },
     "execution_count": 105,
     "metadata": {},
     "output_type": "execute_result"
    }
   ],
   "source": [
    "# loss on a whole training set\n",
    "embedings = C[X_train]             \n",
    "hidden_layer = torch.tanh(embedings.view(-1, dim * context_length) @ weights1 + bias1)\n",
    "logits = hidden_layer @ weights2 + bias2    \n",
    "loss = F.cross_entropy(logits, Y_train)\n",
    "loss"
   ]
  },
  {
   "cell_type": "code",
   "execution_count": 106,
   "metadata": {},
   "outputs": [
    {
     "data": {
      "text/plain": [
       "tensor(2.2372, grad_fn=<NllLossBackward0>)"
      ]
     },
     "execution_count": 106,
     "metadata": {},
     "output_type": "execute_result"
    }
   ],
   "source": [
    "# loss on a dev set\n",
    "embedings = C[X_dev]             \n",
    "hidden_layer = torch.tanh(embedings.view(-1, dim * context_length) @ weights1 + bias1)\n",
    "logits = hidden_layer @ weights2 + bias2    \n",
    "loss = F.cross_entropy(logits, Y_dev)\n",
    "loss"
   ]
  },
  {
   "cell_type": "markdown",
   "metadata": {},
   "source": [
    "batch size: 256 &nbsp;&nbsp;&nbsp;&nbsp; vector dim: 8 &nbsp;&nbsp;&nbsp;&nbsp; num of neurons: 256 &nbsp;&nbsp;&nbsp;&nbsp; train loss: 2.1345 &nbsp;&nbsp;&nbsp;&nbsp; dev loss: 2.1611 <br>\n",
    "batch size: 256 &nbsp;&nbsp;&nbsp;&nbsp; vector dim: 12 &nbsp;&nbsp;&nbsp;&nbsp; num of neurons: 256 &nbsp;&nbsp;&nbsp;&nbsp; train loss: 2.0985 &nbsp;&nbsp;&nbsp;&nbsp; dev loss: 2.1451 <br>\n",
    "batch size: 256 &nbsp;&nbsp;&nbsp;&nbsp; vector dim: 12 &nbsp;&nbsp;&nbsp;&nbsp; num of neurons: 384 &nbsp;&nbsp;&nbsp;&nbsp; train loss: 2.0765 &nbsp;&nbsp;&nbsp;&nbsp; dev loss: 2.1248 <br>\n",
    "batch size: 256 &nbsp;&nbsp;&nbsp;&nbsp; vector dim: 12 &nbsp;&nbsp;&nbsp;&nbsp; num of neurons: 512 &nbsp;&nbsp;&nbsp;&nbsp; train loss: 2.0548 &nbsp;&nbsp;&nbsp;&nbsp; dev loss: 2.1325 <br>\n",
    "batch size: 256 &nbsp;&nbsp;&nbsp;&nbsp; vector dim: 16 &nbsp;&nbsp;&nbsp;&nbsp; num of neurons: 512 &nbsp;&nbsp;&nbsp;&nbsp; train loss: 1.9672 &nbsp;&nbsp;&nbsp;&nbsp; dev loss: 2.2057 <br>\n",
    "batch size: 256 &nbsp;&nbsp;&nbsp;&nbsp; vector dim: 24 &nbsp;&nbsp;&nbsp;&nbsp; num of neurons: 512 &nbsp;&nbsp;&nbsp;&nbsp; train loss: 1.9410 &nbsp;&nbsp;&nbsp;&nbsp; dev loss: 2.2372"
   ]
  },
  {
   "cell_type": "code",
   "execution_count": 69,
   "metadata": {},
   "outputs": [
    {
     "name": "stdout",
     "output_type": "stream",
     "text": [
      "celia.\n",
      "mouhkira.\n",
      "carity.\n",
      "kell.\n",
      "ima.\n",
      "taine.\n",
      "kaylyn.\n",
      "tar.\n",
      "samiyah.\n",
      "javer.\n",
      "gotti.\n",
      "moriellah.\n",
      "jacobeda.\n",
      "kaley.\n",
      "maside.\n",
      "eniavion.\n",
      "ryon.\n",
      "pristin.\n",
      "bron.\n",
      "las.\n"
     ]
    }
   ],
   "source": [
    "# sample from the model\n",
    "g =torch.Generator().manual_seed(2147483647)\n",
    "\n",
    "for _ in range(20):\n",
    "    out = []\n",
    "    context = [0] * context_length                                         \n",
    "    while True:\n",
    "        embedings = C[torch.tensor([context])]                             \n",
    "        hidden_layer = torch.tanh(embedings.view(1, -1) @ weights1 + bias1)       \n",
    "        logits = hidden_layer @ weights2 + bias2                            \n",
    "        probs = F.softmax(logits, dim=1)\n",
    "        index = torch.multinomial(probs, num_samples=1, generator=g).item()\n",
    "        context = context[1:] + [index]\n",
    "        out.append(index)\n",
    "        if index == 0:\n",
    "            break\n",
    "    \n",
    "    print(''.join(itos[i] for i in out))"
   ]
  },
  {
   "cell_type": "markdown",
   "metadata": {},
   "source": [
    "#### E02 \n",
    "##### I was not careful with the intialization of the network in this video. (1) What is the loss you'd get if the predicted probabilities at initialization were perfectly uniform? What loss do we achieve? (2) Can you tune the initialization to get a starting loss that is much more similar to (1)?"
   ]
  },
  {
   "cell_type": "markdown",
   "metadata": {},
   "source": [
    "##### E02 (1)"
   ]
  },
  {
   "cell_type": "code",
   "execution_count": 96,
   "metadata": {},
   "outputs": [],
   "source": [
    "# divide into training set (80%), validation/dev set (10%) and test set (10%)\n",
    "import random\n",
    "random.seed(42)\n",
    "random.shuffle(words)\n",
    "n1 = int(0.8 * len(words))\n",
    "n2 = int(0.9 * len(words))\n",
    "\n",
    "context_length_2 = 3\n",
    "X_train_2, Y_train_2 = build_dataset(words[:n1], context_length_2)\n",
    "X_dev_2, Y_dev_2 = build_dataset(words[n1:n2], context_length_2)\n",
    "X_test_2, Y_test_2 = build_dataset(words[n2:], context_length_2)"
   ]
  },
  {
   "cell_type": "code",
   "execution_count": 89,
   "metadata": {},
   "outputs": [
    {
     "data": {
      "text/plain": [
       "11897"
      ]
     },
     "execution_count": 89,
     "metadata": {},
     "output_type": "execute_result"
    }
   ],
   "source": [
    "g = torch.Generator().manual_seed(2147483647)\n",
    "# dim-dimensional vector space for letters\n",
    "dim_2 = 10\n",
    "neuron_num_2 = 200\n",
    "C_2 = torch.randn((27, dim_2), generator=g)\n",
    "# first layer that is hidden\n",
    "weights1_2 = torch.ones((dim_2 * context_length_2, neuron_num_2))\n",
    "bias1_2 = torch.randn(neuron_num_2, generator=g) * 0\n",
    "# output layer\n",
    "weights2_2 = torch.ones((neuron_num_2, 27))\n",
    "bias2_2 = torch.randn(27, generator=g) * 0\n",
    "# all parametters\n",
    "parameters_2 = [C_2, weights1_2, bias1_2, weights2_2, bias2_2]\n",
    "sum(p.nelement() for p in parameters_2)"
   ]
  },
  {
   "cell_type": "code",
   "execution_count": 90,
   "metadata": {},
   "outputs": [],
   "source": [
    "# turning gradient on\n",
    "for p in parameters_2:\n",
    "    p.requires_grad = True"
   ]
  },
  {
   "cell_type": "code",
   "execution_count": 92,
   "metadata": {},
   "outputs": [
    {
     "name": "stdout",
     "output_type": "stream",
     "text": [
      "0 3.001473903656006\n",
      "10000 2.3810341358184814\n",
      "20000 2.4059033393859863\n",
      "30000 2.4506309032440186\n",
      "40000 2.5451064109802246\n",
      "50000 2.3647890090942383\n",
      "60000 2.280242681503296\n",
      "70000 2.519397497177124\n",
      "80000 2.436635732650757\n",
      "90000 2.5550434589385986\n",
      "100000 2.2913336753845215\n",
      "110000 2.439098834991455\n",
      "120000 2.571693181991577\n",
      "130000 2.4124021530151367\n",
      "140000 2.044318199157715\n",
      "150000 2.3453941345214844\n",
      "160000 2.311312198638916\n",
      "170000 2.5165483951568604\n",
      "180000 2.348288059234619\n",
      "190000 2.635573387145996\n"
     ]
    }
   ],
   "source": [
    "steps_2 = []\n",
    "log_loss_2 = [] \n",
    "for i in range(200000):\n",
    "    # getting minibatch\n",
    "    index = torch.randint(0, X_train_2.shape[0], (32,)) \n",
    "\n",
    "    # forward pass\n",
    "    embedings = C_2[X_train_2[index]]              \n",
    "    hidden_layer = torch.tanh(embedings.view(-1, dim_2 * context_length_2) @ weights1_2 + bias1_2)\n",
    "    logits = hidden_layer @ weights2_2 + bias2_2    \n",
    "    loss = F.cross_entropy(logits, Y_train_2[index])\n",
    "\n",
    "    # backward pass\n",
    "    for p in parameters_2:\n",
    "        p.grad = None\n",
    "    loss.backward()\n",
    "\n",
    "    # update\n",
    "    learning_rate = 0.1 if i < 100000 else 0.01\n",
    "    for p in parameters_2:\n",
    "        p.data -= learning_rate * p.grad\n",
    "\n",
    "    # track log-loss\n",
    "    steps.append(i)\n",
    "    log_loss.append(loss.log10().item())\n",
    "    \n",
    "    if i % 10000 == 0:\n",
    "        print(i, loss.item())"
   ]
  },
  {
   "cell_type": "code",
   "execution_count": 93,
   "metadata": {},
   "outputs": [
    {
     "data": {
      "text/plain": [
       "[<matplotlib.lines.Line2D at 0x1d41249d6c0>]"
      ]
     },
     "execution_count": 93,
     "metadata": {},
     "output_type": "execute_result"
    },
    {
     "data": {
      "image/png": "[encoded data removed]",
      "text/plain": [
       "<Figure size 640x480 with 1 Axes>"
      ]
     },
     "metadata": {},
     "output_type": "display_data"
    }
   ],
   "source": [
    "plt.plot(steps, log_loss)"
   ]
  },
  {
   "cell_type": "code",
   "execution_count": 98,
   "metadata": {},
   "outputs": [
    {
     "data": {
      "text/plain": [
       "tensor(2.4088, grad_fn=<NllLossBackward0>)"
      ]
     },
     "execution_count": 98,
     "metadata": {},
     "output_type": "execute_result"
    }
   ],
   "source": [
    "# loss on a whole training set\n",
    "embedings = C_2[X_train_2] \n",
    "hidden_layer = torch.tanh(embedings.view(-1, dim_2 * context_length_2) @ weights1_2 + bias1_2)\n",
    "logits = hidden_layer @ weights2_2 + bias2_2    \n",
    "loss = F.cross_entropy(logits, Y_train_2)\n",
    "loss"
   ]
  },
  {
   "cell_type": "code",
   "execution_count": 99,
   "metadata": {},
   "outputs": [
    {
     "data": {
      "text/plain": [
       "tensor(2.4107, grad_fn=<NllLossBackward0>)"
      ]
     },
     "execution_count": 99,
     "metadata": {},
     "output_type": "execute_result"
    }
   ],
   "source": [
    "# loss on a dev set\n",
    "embedings = C_2[X_dev_2]             \n",
    "hidden_layer = torch.tanh(embedings.view(-1, dim_2 * context_length_2) @ weights1_2 + bias1_2)\n",
    "logits = hidden_layer @ weights2_2 + bias2_2   \n",
    "loss = F.cross_entropy(logits, Y_dev_2)\n",
    "loss"
   ]
  },
  {
   "cell_type": "markdown",
   "metadata": {},
   "source": [
    "batch size: 32 &nbsp;&nbsp;&nbsp;&nbsp; vector dim: 10 &nbsp;&nbsp;&nbsp;&nbsp; num of neurons: 200 &nbsp;&nbsp;&nbsp;&nbsp; train loss: 2.4088 &nbsp;&nbsp;&nbsp;&nbsp; dev loss: 2.4107"
   ]
  },
  {
   "cell_type": "markdown",
   "metadata": {},
   "source": [
    "##### E02 (2)"
   ]
  },
  {
   "cell_type": "code",
   "execution_count": 107,
   "metadata": {},
   "outputs": [],
   "source": [
    "# divide into training set (80%), validation/dev set (10%) and test set (10%)\n",
    "import random\n",
    "random.seed(42)\n",
    "random.shuffle(words)\n",
    "n1 = int(0.8 * len(words))\n",
    "n2 = int(0.9 * len(words))\n",
    "\n",
    "context_length_2 = 3\n",
    "X_train_2, Y_train_2 = build_dataset(words[:n1], context_length_2)\n",
    "X_dev_2, Y_dev_2 = build_dataset(words[n1:n2], context_length_2)\n",
    "X_test_2, Y_test_2 = build_dataset(words[n2:], context_length_2)"
   ]
  },
  {
   "cell_type": "code",
   "execution_count": 108,
   "metadata": {},
   "outputs": [
    {
     "data": {
      "text/plain": [
       "11897"
      ]
     },
     "execution_count": 108,
     "metadata": {},
     "output_type": "execute_result"
    }
   ],
   "source": [
    "g = torch.Generator().manual_seed(2147483647)\n",
    "# dim-dimensional vector space for letters\n",
    "dim_2 = 10\n",
    "neuron_num_2 = 200\n",
    "C_2 = torch.randn((27, dim_2), generator=g)\n",
    "# first layer that is hidden\n",
    "weights1_2 = torch.randn((dim_2 * context_length_2, neuron_num_2), generator = g) * 0.01\n",
    "bias1_2 = torch.randn(neuron_num_2, generator=g) * 0\n",
    "# output layer\n",
    "weights2_2 = torch.randn((neuron_num_2, 27), generator = g) * 0.01\n",
    "bias2_2 = torch.randn(27, generator=g) * 0\n",
    "# all parametters\n",
    "parameters_2 = [C_2, weights1_2, bias1_2, weights2_2, bias2_2]\n",
    "sum(p.nelement() for p in parameters_2)"
   ]
  },
  {
   "cell_type": "code",
   "execution_count": 109,
   "metadata": {},
   "outputs": [],
   "source": [
    "# turning gradient on\n",
    "for p in parameters_2:\n",
    "    p.requires_grad = True"
   ]
  },
  {
   "cell_type": "code",
   "execution_count": 110,
   "metadata": {},
   "outputs": [
    {
     "name": "stdout",
     "output_type": "stream",
     "text": [
      "0 3.2940804958343506\n",
      "10000 2.489837884902954\n",
      "20000 2.42472767829895\n",
      "30000 2.143441677093506\n",
      "40000 2.2274696826934814\n",
      "50000 2.314236640930176\n",
      "60000 2.50130558013916\n",
      "70000 2.083341121673584\n",
      "80000 2.148120164871216\n",
      "90000 2.169630527496338\n",
      "100000 2.243969202041626\n",
      "110000 2.2006213665008545\n",
      "120000 2.0382869243621826\n",
      "130000 1.9574164152145386\n",
      "140000 2.0832619667053223\n",
      "150000 1.9629911184310913\n",
      "160000 1.9121209383010864\n",
      "170000 1.9568790197372437\n",
      "180000 2.047024726867676\n",
      "190000 2.1354575157165527\n"
     ]
    }
   ],
   "source": [
    "steps_2 = []\n",
    "log_loss_2 = [] \n",
    "for i in range(200000):\n",
    "    # getting minibatch\n",
    "    index = torch.randint(0, X_train_2.shape[0], (32,)) \n",
    "\n",
    "    # forward pass\n",
    "    embedings = C_2[X_train_2[index]]              \n",
    "    hidden_layer = torch.tanh(embedings.view(-1, dim_2 * context_length_2) @ weights1_2 + bias1_2)\n",
    "    logits = hidden_layer @ weights2_2 + bias2_2    \n",
    "    loss = F.cross_entropy(logits, Y_train_2[index])\n",
    "\n",
    "    # backward pass\n",
    "    for p in parameters_2:\n",
    "        p.grad = None\n",
    "    loss.backward()\n",
    "\n",
    "    # update\n",
    "    learning_rate = 0.1 if i < 100000 else 0.01\n",
    "    for p in parameters_2:\n",
    "        p.data -= learning_rate * p.grad\n",
    "\n",
    "    # track log-loss\n",
    "    steps.append(i)\n",
    "    log_loss.append(loss.log10().item())\n",
    "    \n",
    "    if i % 10000 == 0:\n",
    "        print(i, loss.item())"
   ]
  },
  {
   "cell_type": "code",
   "execution_count": 111,
   "metadata": {},
   "outputs": [
    {
     "data": {
      "text/plain": [
       "[<matplotlib.lines.Line2D at 0x1d435ecd000>]"
      ]
     },
     "execution_count": 111,
     "metadata": {},
     "output_type": "execute_result"
    },
    {
     "data": {
      "image/png": "[encoded data removed]",
      "text/plain": [
       "<Figure size 640x480 with 1 Axes>"
      ]
     },
     "metadata": {},
     "output_type": "display_data"
    }
   ],
   "source": [
    "plt.plot(steps, log_loss)"
   ]
  },
  {
   "cell_type": "code",
   "execution_count": 112,
   "metadata": {},
   "outputs": [
    {
     "data": {
      "text/plain": [
       "tensor(2.1081, grad_fn=<NllLossBackward0>)"
      ]
     },
     "execution_count": 112,
     "metadata": {},
     "output_type": "execute_result"
    }
   ],
   "source": [
    "# loss on a whole training set\n",
    "embedings = C_2[X_train_2] \n",
    "hidden_layer = torch.tanh(embedings.view(-1, dim_2 * context_length_2) @ weights1_2 + bias1_2)\n",
    "logits = hidden_layer @ weights2_2 + bias2_2    \n",
    "loss = F.cross_entropy(logits, Y_train_2)\n",
    "loss"
   ]
  },
  {
   "cell_type": "code",
   "execution_count": 113,
   "metadata": {},
   "outputs": [
    {
     "data": {
      "text/plain": [
       "tensor(2.1422, grad_fn=<NllLossBackward0>)"
      ]
     },
     "execution_count": 113,
     "metadata": {},
     "output_type": "execute_result"
    }
   ],
   "source": [
    "# loss on a dev set\n",
    "embedings = C_2[X_dev_2]             \n",
    "hidden_layer = torch.tanh(embedings.view(-1, dim_2 * context_length_2) @ weights1_2 + bias1_2)\n",
    "logits = hidden_layer @ weights2_2 + bias2_2   \n",
    "loss = F.cross_entropy(logits, Y_dev_2)\n",
    "loss"
   ]
  },
  {
   "cell_type": "markdown",
   "metadata": {},
   "source": [
    "batch size: 32 &nbsp;&nbsp;&nbsp;&nbsp; vector dim: 10 &nbsp;&nbsp;&nbsp;&nbsp; num of neurons: 200 &nbsp;&nbsp;&nbsp;&nbsp; train loss: 2.1081 &nbsp;&nbsp;&nbsp;&nbsp; dev loss: 2.1422"
   ]
  }
 ],
 "metadata": {
  "kernelspec": {
   "display_name": "venv",
   "language": "python",
   "name": "venv"
  },
  "language_info": {
   "codemirror_mode": {
    "name": "ipython",
    "version": 3
   },
   "file_extension": ".py",
   "mimetype": "text/x-python",
   "name": "python",
   "nbconvert_exporter": "python",
   "pygments_lexer": "ipython3",
   "version": "3.10.10"
  },
  "orig_nbformat": 4
 },
 "nbformat": 4,
 "nbformat_minor": 2
}
